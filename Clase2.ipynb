{
 "cells": [
  {
   "cell_type": "code",
   "execution_count": 1,
   "metadata": {},
   "outputs": [
    {
     "name": "stdout",
     "output_type": "stream",
     "text": [
      "hola mundo\n"
     ]
    }
   ],
   "source": [
    "print(\"hola mundo\")"
   ]
  },
  {
   "attachments": {},
   "cell_type": "markdown",
   "metadata": {},
   "source": [
    "$$\n",
    "ax^{2}+bx+c=0\n",
    "$$"
   ]
  },
  {
   "attachments": {},
   "cell_type": "markdown",
   "metadata": {},
   "source": [
    "# Booleanos"
   ]
  },
  {
   "attachments": {},
   "cell_type": "markdown",
   "metadata": {},
   "source": [
    "* Solo hay dos: Verdadero y Falso\n",
    "* Verdadero: True\n",
    "* False: False"
   ]
  },
  {
   "cell_type": "code",
   "execution_count": 2,
   "metadata": {},
   "outputs": [
    {
     "ename": "NameError",
     "evalue": "name 'false' is not defined",
     "output_type": "error",
     "traceback": [
      "\u001b[0;31m---------------------------------------------------------------------------\u001b[0m",
      "\u001b[0;31mNameError\u001b[0m                                 Traceback (most recent call last)",
      "Cell \u001b[0;32mIn[2], line 1\u001b[0m\n\u001b[0;32m----> 1\u001b[0m false\n",
      "\u001b[0;31mNameError\u001b[0m: name 'false' is not defined"
     ]
    }
   ],
   "source": [
    "false"
   ]
  },
  {
   "cell_type": "code",
   "execution_count": 3,
   "metadata": {},
   "outputs": [
    {
     "ename": "NameError",
     "evalue": "name 'true' is not defined",
     "output_type": "error",
     "traceback": [
      "\u001b[0;31m---------------------------------------------------------------------------\u001b[0m",
      "\u001b[0;31mNameError\u001b[0m                                 Traceback (most recent call last)",
      "Cell \u001b[0;32mIn[3], line 1\u001b[0m\n\u001b[0;32m----> 1\u001b[0m true\n",
      "\u001b[0;31mNameError\u001b[0m: name 'true' is not defined"
     ]
    }
   ],
   "source": [
    "true"
   ]
  },
  {
   "cell_type": "code",
   "execution_count": 5,
   "metadata": {},
   "outputs": [
    {
     "ename": "NameError",
     "evalue": "name 'false' is not defined",
     "output_type": "error",
     "traceback": [
      "\u001b[0;31m---------------------------------------------------------------------------\u001b[0m",
      "\u001b[0;31mNameError\u001b[0m                                 Traceback (most recent call last)",
      "Cell \u001b[0;32mIn[5], line 1\u001b[0m\n\u001b[0;32m----> 1\u001b[0m \u001b[39mprint\u001b[39m(false, true)\n",
      "\u001b[0;31mNameError\u001b[0m: name 'false' is not defined"
     ]
    }
   ],
   "source": [
    "print(false, true)"
   ]
  },
  {
   "cell_type": "code",
   "execution_count": 4,
   "metadata": {},
   "outputs": [
    {
     "name": "stdout",
     "output_type": "stream",
     "text": [
      "False True\n"
     ]
    }
   ],
   "source": [
    "print(False, True)"
   ]
  },
  {
   "attachments": {},
   "cell_type": "markdown",
   "metadata": {},
   "source": [
    "## Operadores de comparación"
   ]
  },
  {
   "cell_type": "code",
   "execution_count": 6,
   "metadata": {},
   "outputs": [
    {
     "data": {
      "text/plain": [
       "False"
      ]
     },
     "execution_count": 6,
     "metadata": {},
     "output_type": "execute_result"
    }
   ],
   "source": [
    "# =: asignacion\n",
    "# ==: igualdad matematica\n",
    "\n",
    "0 == 1"
   ]
  },
  {
   "cell_type": "code",
   "execution_count": 12,
   "metadata": {},
   "outputs": [
    {
     "data": {
      "text/plain": [
       "True"
      ]
     },
     "execution_count": 12,
     "metadata": {},
     "output_type": "execute_result"
    }
   ],
   "source": [
    "# ¿el uno es diferente de 2?\n",
    "1 != 2"
   ]
  },
  {
   "cell_type": "code",
   "execution_count": 13,
   "metadata": {},
   "outputs": [
    {
     "data": {
      "text/plain": [
       "False"
      ]
     },
     "execution_count": 13,
     "metadata": {},
     "output_type": "execute_result"
    }
   ],
   "source": [
    "1 != 1"
   ]
  },
  {
   "cell_type": "code",
   "execution_count": 7,
   "metadata": {},
   "outputs": [
    {
     "data": {
      "text/plain": [
       "True"
      ]
     },
     "execution_count": 7,
     "metadata": {},
     "output_type": "execute_result"
    }
   ],
   "source": [
    "1 == 1"
   ]
  },
  {
   "cell_type": "code",
   "execution_count": 9,
   "metadata": {},
   "outputs": [
    {
     "data": {
      "text/plain": [
       "False"
      ]
     },
     "execution_count": 9,
     "metadata": {},
     "output_type": "execute_result"
    }
   ],
   "source": [
    "# >\n",
    "50 < 20"
   ]
  },
  {
   "cell_type": "code",
   "execution_count": 10,
   "metadata": {},
   "outputs": [
    {
     "data": {
      "text/plain": [
       "True"
      ]
     },
     "execution_count": 10,
     "metadata": {},
     "output_type": "execute_result"
    }
   ],
   "source": [
    "# ¿el cuatro es menor o igual al 20?\n",
    "4 <= 20"
   ]
  },
  {
   "cell_type": "code",
   "execution_count": 11,
   "metadata": {},
   "outputs": [
    {
     "data": {
      "text/plain": [
       "False"
      ]
     },
     "execution_count": 11,
     "metadata": {},
     "output_type": "execute_result"
    }
   ],
   "source": [
    "6 >= 10"
   ]
  },
  {
   "cell_type": "code",
   "execution_count": 14,
   "metadata": {},
   "outputs": [
    {
     "name": "stdout",
     "output_type": "stream",
     "text": [
      "2\n",
      "6\n"
     ]
    }
   ],
   "source": [
    "print(1 + 1)\n",
    "print(2 * 3)"
   ]
  },
  {
   "attachments": {},
   "cell_type": "markdown",
   "metadata": {},
   "source": [
    "# Operadores lógicos\n",
    "\n",
    "* And (&)\n",
    "* Or (|)\n",
    "* not (!)"
   ]
  },
  {
   "cell_type": "code",
   "execution_count": 26,
   "metadata": {},
   "outputs": [
    {
     "name": "stdout",
     "output_type": "stream",
     "text": [
      "Tabla de verdad del operador AND\n",
      "True and True = True\n",
      "True and False = False\n",
      "False and True = False\n",
      "False and False = False\n",
      "----------------------------------------\n",
      "Tabla de verdad del operador OR\n",
      "True or True = True\n",
      "True or False = True\n",
      "False or True = True\n",
      "False or False = False\n"
     ]
    }
   ],
   "source": [
    "\"\"\"\n",
    "-and: Nos regresará True siempre que las componentes\n",
    "      involucradas sean todas verdaderas (&)\n",
    "-or: Nos regresará True siempre que en las componentes\n",
    "      haya al menos un True (|)\n",
    "-not: True-->False, False-->True (not)\n",
    "\"\"\"\n",
    "\n",
    "print(\"Tabla de verdad del operador AND\")\n",
    "print(\"True and True =\", True & True)\n",
    "print(\"True and False =\", True & False)\n",
    "print(\"False and True =\", False & True)\n",
    "print(\"False and False =\", False & False)\n",
    "print(\"-\" * 40)\n",
    "print(\"Tabla de verdad del operador OR\")\n",
    "print(\"True or True =\", True | True)\n",
    "print(\"True or False =\", True | False)\n",
    "print(\"False or True =\", False | True)\n",
    "print(\"False or False =\", False | False)"
   ]
  },
  {
   "cell_type": "code",
   "execution_count": 30,
   "metadata": {},
   "outputs": [
    {
     "data": {
      "text/plain": [
       "True"
      ]
     },
     "execution_count": 30,
     "metadata": {},
     "output_type": "execute_result"
    }
   ],
   "source": [
    "# False | False ---> False\n",
    "# not (False | False) ---> True\n",
    "# True & True--->True\n",
    "True & ( not (False | False) )"
   ]
  },
  {
   "cell_type": "code",
   "execution_count": 29,
   "metadata": {},
   "outputs": [
    {
     "name": "stdout",
     "output_type": "stream",
     "text": [
      "False\n",
      "True\n"
     ]
    }
   ],
   "source": [
    "print(not True)\n",
    "print(not False)"
   ]
  },
  {
   "attachments": {},
   "cell_type": "markdown",
   "metadata": {},
   "source": [
    "# Condicionales\n",
    "\n",
    "* Si pasa una condición(booleano=True), entonces hacemos una acción 1.\n",
    "* Si NO pasa esa condición(booleano=False), entonces hacemos una acción 2.\n",
    "\n",
    "Situación: Semáforno peatonol: Si está en verde, pasamos; si no está en verde (rojo), no pasamos."
   ]
  },
  {
   "attachments": {},
   "cell_type": "markdown",
   "metadata": {},
   "source": [
    "---\n",
    "```python\n",
    "if <condicion>:\n",
    "# condicion es verdadera\n",
    "    accion1\n",
    "# condicion es falsa\n",
    "else:\n",
    "    accion2\n",
    "\n",
    "```\n",
    "---"
   ]
  },
  {
   "cell_type": "code",
   "execution_count": 35,
   "metadata": {},
   "outputs": [
    {
     "name": "stdout",
     "output_type": "stream",
     "text": [
      "No cruce (no pase)\n"
     ]
    }
   ],
   "source": [
    "# Implementar el semaforo peatonal\n",
    "color_semaforo = \"rojo\"\n",
    "\n",
    "if color_semaforo == \"verde\":\n",
    "    # Accion a realizar en caso de que la condicion sea verdadera\n",
    "    print(\"Cruce (pase)\")\n",
    "else:\n",
    "    # Accion a realizar en caso de que la condicion sea falsa\n",
    "    print(\"No cruce (no pase)\")"
   ]
  },
  {
   "cell_type": "code",
   "execution_count": 36,
   "metadata": {},
   "outputs": [
    {
     "name": "stdout",
     "output_type": "stream",
     "text": [
      "aprobaste\n"
     ]
    }
   ],
   "source": [
    "# Condicion verdadera: cal >= 6 ---> \"Aprobo\"\n",
    "# Condicion falsa: cal < 6 ---> \"Reprobo\"\n",
    "calificacion = float(input(\"Ingrese la calificación: \")) \n",
    "\n",
    "if calificacion >= 6:\n",
    "    # Accion a realizar cuando la condicion es verdadera\n",
    "    print(\"aprobaste\")\n",
    "else:\n",
    "    # Accion a realizar cuando la condicion es falsa\n",
    "    print(\"Reprobaste\")"
   ]
  },
  {
   "cell_type": "code",
   "execution_count": 42,
   "metadata": {},
   "outputs": [
    {
     "name": "stdout",
     "output_type": "stream",
     "text": [
      "Desempeño excelente\n"
     ]
    }
   ],
   "source": [
    "calificacion = float(input(\"Ingrese la calificación: \")) \n",
    "\n",
    "# Condicion 1\n",
    "if calificacion < 6:\n",
    "    # Accion1 a realizar cuando la condicion1 es verdadera\n",
    "    print(\"Reprobaste\")\n",
    "# condicion 2\n",
    "elif (calificacion >= 6) & (calificacion < 8):\n",
    "    # Accion2 a realizar cuando la condicion2 es verdadera\n",
    "    print(\"Desempeño regular\")\n",
    "# condicion 3\n",
    "elif (calificacion >= 8) & (calificacion < 9.5):\n",
    "    # Accion3 a realizar cuando la condicion3 es verdadera\n",
    "    print(\"Desempeño muy bueno\")\n",
    "# cal >= 9.5\n",
    "else:\n",
    "    # Accion a realizar cuando todas las condiciones anteriores\n",
    "    # sean falsas\n",
    "    print(\"Desempeño excelente\")"
   ]
  },
  {
   "attachments": {},
   "cell_type": "markdown",
   "metadata": {},
   "source": [
    "1. Bucles\n",
    "2. Intro Pandas\n",
    "3. Graficación\n",
    "Video extra (grabado)\n",
    "Clase síncrona: Antes del siguiente sábado (Nos ponemos de acuerdo por whats)\n",
    "---\n",
    "\n",
    "Tercer sábado: SQLite3 (SQL en Python)\n",
    "\n",
    "6 sábados"
   ]
  }
 ],
 "metadata": {
  "kernelspec": {
   "display_name": "Python 3",
   "language": "python",
   "name": "python3"
  },
  "language_info": {
   "codemirror_mode": {
    "name": "ipython",
    "version": 3
   },
   "file_extension": ".py",
   "mimetype": "text/x-python",
   "name": "python",
   "nbconvert_exporter": "python",
   "pygments_lexer": "ipython3",
   "version": "3.10.4"
  },
  "orig_nbformat": 4
 },
 "nbformat": 4,
 "nbformat_minor": 2
}
